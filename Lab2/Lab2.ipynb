{
 "cells": [
  {
   "cell_type": "markdown",
   "source": [
    "# Лабораторна робота №2\r\n",
    "\r\n",
    "### Студента групи МІТ-31 (підгрупа 2)\r\n",
    "\r\n",
    "### Луніна Леоніда Олександровича"
   ],
   "metadata": {}
  },
  {
   "cell_type": "markdown",
   "source": [
    "## Завдання\r\n",
    "\r\n",
    "\r\n",
    "   1. Створити набір даних за допомогою [DatasetGenerator](https://scikit-learn.org/stable/modules/generated/sklearn.datasets.make_regression.html#sklearn.datasets.make_regression)\r\n",
    "\r\n",
    "   2. Завантажити набір даних для регресії на [сайті](https://www.kaggle.com/datasets?search=regression) (у кожного студента має бути інший - прошу організуватись відповідним чином)\r\n",
    "\r\n",
    "   3. (опціонально для отримання відмінної оцінки) Згенерувати набір даних для регресії на основі звичайних можливостей Python.\r\n",
    "\r\n",
    "   4. Для отриманих наборів даних провести встановленні кроки моделювання.\r\n",
    "\r\n",
    "   5. Отримані результати викласти на github у репозиторій ml2021 в основну (default) гілку в папці Lab2."
   ],
   "metadata": {}
  },
  {
   "cell_type": "code",
   "execution_count": 69,
   "source": [
    "import numpy as np\r\n",
    "import pandas as pd\r\n",
    "from sklearn import datasets\r\n",
    "import seaborn as sns\r\n",
    "import matplotlib.pyplot as plt #for plotting\r\n",
    "\r\n",
    "\r\n",
    "x, y, coef = datasets.make_regression(n_samples=1000,#number of samples\r\n",
    "                                      n_features=1,#number of features\r\n",
    "                                      n_informative=100,#number of useful features \r\n",
    "                                      noise=10,#bias and standard deviation of the guassian noise\r\n",
    "                                      coef=True,#true coefficient used to generated the data\r\n",
    "                                      random_state=1) #set for same data points for each run\r\n",
    "\r\n",
    "plt.ion() #interactive plot on\r\n",
    "plt.plot(x,y,'.',label='training data')\r\n",
    "\r\n",
    "df = pd.DataFrame(data={'X':x.flatten(),'Y':y,'coef':coef})\r\n",
    "df.to_csv('./datasetsGenerator_results.csv', index=None)"
   ],
   "outputs": [
    {
     "output_type": "display_data",
     "data": {
      "image/png": "[encoded data removed]",
      "text/plain": [
       "<Figure size 432x288 with 1 Axes>"
      ]
     },
     "metadata": {
      "needs_background": "light"
     }
    }
   ],
   "metadata": {}
  },
  {
   "cell_type": "code",
   "execution_count": 102,
   "source": [
    "import random\r\n",
    "import numpy as np\r\n",
    "import pandas as pd\r\n",
    "from sklearn import datasets\r\n",
    "import matplotlib.pyplot as plt #for plotting\r\n",
    "\r\n",
    "col = []\r\n",
    "X_arra = []\r\n",
    "Y_arra = []\r\n",
    "coef_array = []\r\n",
    "\r\n",
    "for i in range(1000):\r\n",
    "    X_arra.append(random.uniform(-3.0, 3.0))\r\n",
    "    Y_arra.append(random.uniform(-250.0, 250.0))\r\n",
    "    coef_array.append('82.2')\r\n",
    "\r\n",
    "col.append(X_arra)\r\n",
    "col.append(Y_arra)\r\n",
    "col.append(coef)\r\n",
    "\r\n",
    "data = pd.DataFrame(data={'X':col[0],'Y':col[1],'coef':col[2]})\r\n",
    "data.to_csv('./python_results_dataframe.csv', index=None, columns=['X', 'Y', 'coef'])"
   ],
   "outputs": [],
   "metadata": {}
  }
 ],
 "metadata": {
  "orig_nbformat": 4,
  "language_info": {
   "name": "python",
   "version": "3.8.8",
   "mimetype": "text/x-python",
   "codemirror_mode": {
    "name": "ipython",
    "version": 3
   },
   "pygments_lexer": "ipython3",
   "nbconvert_exporter": "python",
   "file_extension": ".py"
  },
  "kernelspec": {
   "name": "python3",
   "display_name": "Python 3.8.8 64-bit ('base': conda)"
  },
  "interpreter": {
   "hash": "cdc1bd03f89181de8c68a6c3149f34a4fc8da3607cbc1d336dee1514f2a11f34"
  }
 },
 "nbformat": 4,
 "nbformat_minor": 2
}