{
 "cells": [
  {
   "cell_type": "markdown",
   "source": [
    "# Лабораторна робота №3\r\n",
    "\r\n",
    "### Студента групи МІТ-31 (підгрупа 2)\r\n",
    "\r\n",
    "### Луніна Леоніда Олександровича\r\n"
   ],
   "metadata": {}
  },
  {
   "cell_type": "markdown",
   "source": [
    "## Завдання\r\n",
    "\r\n",
    "\r\n",
    "   1. Створити набір даних за допомогою [DatasetGenerator](https://scikit-learn.org/stable/modules/generated/sklearn.datasets.make_classification.html)\r\n",
    "\r\n",
    "   2. Завантажити набір даних для регресії на [сайті](https://www.kaggle.com/datasets?search=classification) (у кожного студента має бути інший - прошу організуватись відповідним чином)\r\n",
    "\r\n",
    "   3. (опціонально для отримання відмінної оцінки) Згенерувати набір даних для класифікації на основі звичайних можливостей Python.\r\n",
    "\r\n",
    "   4. Для отриманих наборів даних провести встановленні кроки моделювання.\r\n",
    "\r\n",
    "   5. Отримані результати викласти на github у репозиторій ml2021 в основну (default) гілку в папці Lab3."
   ],
   "metadata": {}
  },
  {
   "cell_type": "code",
   "execution_count": null,
   "source": [
    "##Ha, ha, GitHub not for cheating(refactoring)))))))"
   ],
   "outputs": [],
   "metadata": {}
  }
 ],
 "metadata": {
  "orig_nbformat": 4,
  "language_info": {
   "name": "python"
  }
 },
 "nbformat": 4,
 "nbformat_minor": 2
}