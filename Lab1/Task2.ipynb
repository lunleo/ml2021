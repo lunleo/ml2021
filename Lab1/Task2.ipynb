{
 "cells": [
  {
   "cell_type": "markdown",
   "source": [
    "#Лабораторна робота 1\r\n",
    "###Студента групи МІТ-31 (підгрупа 2)\r\n",
    "###Луніна Леоніда Олександровича\r\n",
    "\r\n",
    "##Завдання\r\n",
    "1. NumPy (створити набір даних (розмір за власним рішенням), провести CRUD операції над даними (скаляр, вектор, матриця)). Використати arange, random.\r\n",
    "2. Pandas (створити dataframe різними способами, провести маніпуляції з даними (head, describe, iloc, loc ...))\r\n",
    "3. Matplotlib (створити набір даних лінійної функції з урахуванням помилок вимірювань, побудувати графік функції та згенерованих даних, обчислити похибку з використанням метрик MAE, MSE). Записати отримані результати у csv файл (формат: X,Y, Y_hat, mAE, mSE)\r\n",
    "\r\n",
    "4. Відповіді оформити .ipynb документом\r\n",
    "5. Викласти у зазначений репозіторій GitHub в окремій папці з назвою Lab1 де має бути .ipynb файл та необхідні файли з даними"
   ],
   "metadata": {}
  },
  {
   "cell_type": "code",
   "execution_count": 30,
   "source": [
    "import pandas as pd\r\n",
    "\r\n",
    "#1\r\n",
    "dictionary_lists = {\r\n",
    "\"Student_Name\": [\"Samreena\", \"Raees\", \"Sara\", \"Sana\"],\r\n",
    "\"Course_Title\": [\"SQA\",\"SRE\",\"IT Basics\", \"Artificial intelligence\"],\r\n",
    "\"GPA\": [3.1, 3.3, 2.8, 4.0]}\r\n",
    "dframe1 = pd.DataFrame(dictionary_lists)\r\n",
    "print(dframe1, end = \"\\n\\n\")\r\n",
    "\r\n",
    "\r\n",
    "#2\r\n",
    "Student_Name = [\"Samreena\", \"Raees\", \"Sara\", \"Sana\"]\r\n",
    "Course_Title = [\"SQA\", \"SRE\", \"IT Basics\", \"Artificial Intelligence\"]\r\n",
    "GPA = [3.1, 3.3, 2.8, 4.0]\r\n",
    "tuples = list(zip(Student_Name, Course_Title, GPA))\r\n",
    "dframe2 = pd.DataFrame(tuples, columns=[\"Student_Name\", \"Course_Title\", \"GPA\"])\r\n",
    "print(dframe2, end=\"\\n\\n\")\r\n",
    "\r\n",
    "#3\r\n",
    "fixed_df = pd.read_csv('data.csv')\r\n",
    "print(fixed_df.head(), end=\"\\n\\n\")\r\n",
    "print(fixed_df.describe(), end=\"\\n\\n\")\r\n",
    "print(fixed_df.iloc(), end=\"\\n\\n\")\r\n",
    "print(fixed_df.loc(), end=\"\\n\\n\")\r\n"
   ],
   "outputs": [
    {
     "output_type": "stream",
     "name": "stdout",
     "text": [
      "  Student_Name             Course_Title  GPA\n",
      "0     Samreena                      SQA  3.1\n",
      "1        Raees                      SRE  3.3\n",
      "2         Sara                IT Basics  2.8\n",
      "3         Sana  Artificial intelligence  4.0\n",
      "\n",
      "  Student_Name             Course_Title  GPA\n",
      "0     Samreena                      SQA  3.1\n",
      "1        Raees                      SRE  3.3\n",
      "2         Sara                IT Basics  2.8\n",
      "3         Sana  Artificial Intelligence  4.0\n",
      "\n",
      "   Duration  Pulse  Maxpulse  Calories\n",
      "0        60    110       130     409.1\n",
      "1        60    117       145     479.0\n",
      "2        60    103       135     340.0\n",
      "3        45    109       175     282.4\n",
      "4        45    117       148     406.0\n",
      "\n",
      "         Duration       Pulse    Maxpulse     Calories\n",
      "count  169.000000  169.000000  169.000000   164.000000\n",
      "mean    63.846154  107.461538  134.047337   375.790244\n",
      "std     42.299949   14.510259   16.450434   266.379919\n",
      "min     15.000000   80.000000  100.000000    50.300000\n",
      "25%     45.000000  100.000000  124.000000   250.925000\n",
      "50%     60.000000  105.000000  131.000000   318.600000\n",
      "75%     60.000000  111.000000  141.000000   387.600000\n",
      "max    300.000000  159.000000  184.000000  1860.400000\n",
      "\n"
     ]
    }
   ],
   "metadata": {}
  }
 ],
 "metadata": {
  "orig_nbformat": 4,
  "language_info": {
   "name": "python",
   "version": "3.8.8",
   "mimetype": "text/x-python",
   "codemirror_mode": {
    "name": "ipython",
    "version": 3
   },
   "pygments_lexer": "ipython3",
   "nbconvert_exporter": "python",
   "file_extension": ".py"
  },
  "kernelspec": {
   "name": "python3",
   "display_name": "Python 3.8.8 64-bit"
  },
  "interpreter": {
   "hash": "cdc1bd03f89181de8c68a6c3149f34a4fc8da3607cbc1d336dee1514f2a11f34"
  }
 },
 "nbformat": 4,
 "nbformat_minor": 2
}