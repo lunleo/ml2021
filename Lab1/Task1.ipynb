{
 "cells": [
  {
   "cell_type": "markdown",
   "source": [
    "#Лабораторна робота 1\r\n",
    "###Студента групи МІТ-31 (підгрупа 2)\r\n",
    "###Луніна Леоніда Олександровича\r\n",
    "\r\n",
    "##Завдання\r\n",
    "1. NumPy (створити набір даних (розмір за власним рішенням), провести CRUD операції над даними (скаляр, вектор, матриця)). Використати arange, random.\r\n",
    "2. Pandas (створити dataframe різними способами, провести маніпуляції з даними (head, describe, iloc, loc ...))\r\n",
    "3. Matplotlib (створити набір даних лінійної функції з урахуванням помилок вимірювань, побудувати графік функції та згенерованих даних, обчислити похибку з використанням метрик MAE, MSE). Записати отримані результати у csv файл (формат: X,Y, Y_hat, mAE, mSE)\r\n",
    "\r\n",
    "4. Відповіді оформити .ipynb документом\r\n",
    "5. Викласти у зазначений репозіторій GitHub в окремій папці з назвою Lab1 де має бути .ipynb файл та необхідні файли з даними"
   ],
   "metadata": {}
  },
  {
   "cell_type": "code",
   "execution_count": 11,
   "source": [
    "import numpy as np\r\n",
    "import pandas as pd\r\n",
    "import matplotlib as mpl\r\n",
    "\r\n",
    "print(\"CRUD operations\")\r\n",
    "print(\"Creation: \")\r\n",
    "array1 = np.arange(0,100,5)\r\n",
    "print(array1) \r\n",
    "array2 = np.random.randint(0, 100, 20)\r\n",
    "print(array2)\r\n",
    "print(\"Add element in the end of array2: \")\r\n",
    "array2 = np.append(array2, 20)\r\n",
    "print(array2, end='\\n\\n')\r\n",
    "\r\n",
    "\r\n",
    "print(\"Reading last element of second array:\")\r\n",
    "print(array2.item(array2.size-1), end=\"\\n\\n\")\r\n",
    "\r\n",
    "print(\"Updating: changed array1 1st element to 777\")\r\n",
    "array1[0] = 777\r\n",
    "print(array1, end=\"\\n\\n\")\r\n",
    "\r\n",
    "print(\"Deleting: delete array2 1st element\")\r\n",
    "array2 = np.delete(array2, 0)\r\n",
    "print(array2, end=\"\\n\\n\")\r\n",
    "\r\n",
    "print(\"Scalar: \")\r\n",
    "array1 = np.multiply(array1, 1.7)\r\n",
    "print(array1)\r\n",
    "array2 = np.power(array2, 2)\r\n",
    "print(array2, end=\"\\n\\n\")\r\n",
    "\r\n",
    "print(\"Vector: \")\r\n",
    "array12 = np.add(array1,array2)\r\n",
    "array13 = np.subtract(array1,array2)\r\n",
    "print(array12)\r\n",
    "print(array13, end=\"\\n\\n\")\r\n",
    "\r\n",
    "print(\"Matrix: \")\r\n",
    "mat1 = np.random.randint(0, 100, size = (5,5))\r\n",
    "print(mat1, sep=\"\\n\")"
   ],
   "outputs": [
    {
     "output_type": "stream",
     "name": "stdout",
     "text": [
      "CRUD operations\n",
      "Creation: \n",
      "[ 0  5 10 15 20 25 30 35 40 45 50 55 60 65 70 75 80 85 90 95]\n",
      "[74 56 64 21 79 59 83 31 62 16 83 39 55 31 91 91 81 76 87 40]\n",
      "Add element in the end of array2: \n",
      "[74 56 64 21 79 59 83 31 62 16 83 39 55 31 91 91 81 76 87 40 20]\n",
      "\n",
      "Reading last element of second array:\n",
      "20\n",
      "\n",
      "Updating: changed array1 1st element to 777\n",
      "[777   5  10  15  20  25  30  35  40  45  50  55  60  65  70  75  80  85\n",
      "  90  95]\n",
      "\n",
      "Deleting: delete array2 1st element\n",
      "[56 64 21 79 59 83 31 62 16 83 39 55 31 91 91 81 76 87 40 20]\n",
      "\n",
      "Scalar: \n",
      "[1320.9    8.5   17.    25.5   34.    42.5   51.    59.5   68.    76.5\n",
      "   85.    93.5  102.   110.5  119.   127.5  136.   144.5  153.   161.5]\n",
      "[3136 4096  441 6241 3481 6889  961 3844  256 6889 1521 3025  961 8281\n",
      " 8281 6561 5776 7569 1600  400]\n",
      "\n",
      "Vector: \n",
      "[4456.9 4104.5  458.  6266.5 3515.  6931.5 1012.  3903.5  324.  6965.5\n",
      " 1606.  3118.5 1063.  8391.5 8400.  6688.5 5912.  7713.5 1753.   561.5]\n",
      "[-1815.1 -4087.5  -424.  -6215.5 -3447.  -6846.5  -910.  -3784.5  -188.\n",
      " -6812.5 -1436.  -2931.5  -859.  -8170.5 -8162.  -6433.5 -5640.  -7424.5\n",
      " -1447.   -238.5]\n",
      "\n",
      "Matrix: \n",
      "[[47 39 64 90 90]\n",
      " [53 21 37 64 41]\n",
      " [17 96 44 69 82]\n",
      " [89 77 98 67 12]\n",
      " [54  3 66 18 22]]\n"
     ]
    }
   ],
   "metadata": {}
  }
 ],
 "metadata": {
  "orig_nbformat": 4,
  "language_info": {
   "name": "python",
   "version": "3.8.8",
   "mimetype": "text/x-python",
   "codemirror_mode": {
    "name": "ipython",
    "version": 3
   },
   "pygments_lexer": "ipython3",
   "nbconvert_exporter": "python",
   "file_extension": ".py"
  },
  "kernelspec": {
   "name": "python3",
   "display_name": "Python 3.8.8 64-bit"
  },
  "interpreter": {
   "hash": "cdc1bd03f89181de8c68a6c3149f34a4fc8da3607cbc1d336dee1514f2a11f34"
  }
 },
 "nbformat": 4,
 "nbformat_minor": 2
}