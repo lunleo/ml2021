{
 "cells": [
  {
   "cell_type": "markdown",
   "source": [
    "#Лабораторна робота 1\r\n",
    "###Студента групи МІТ-31 (підгрупа 2)\r\n",
    "###Луніна Леоніда Олександровича\r\n",
    "\r\n",
    "##Завдання\r\n",
    "1. NumPy (створити набір даних (розмір за власним рішенням), провести CRUD операції над даними (скаляр, вектор, матриця)). Використати arange, random.\r\n",
    "2. Pandas (створити dataframe різними способами, провести маніпуляції з даними (head, describe, iloc, loc ...))\r\n",
    "3. Matplotlib (створити набір даних лінійної функції з урахуванням помилок вимірювань, побудувати графік функції та згенерованих даних, обчислити похибку з використанням метрик MAE, MSE). Записати отримані результати у csv файл (формат: X,Y, Y_hat, mAE, mSE)\r\n",
    "\r\n",
    "4. Відповіді оформити .ipynb документом\r\n",
    "5. Викласти у зазначений репозіторій GitHub в окремій папці з назвою Lab1 де має бути .ipynb файл та необхідні файли з даними"
   ],
   "metadata": {}
  },
  {
   "cell_type": "code",
   "execution_count": null,
   "source": [],
   "outputs": [],
   "metadata": {}
  }
 ],
 "metadata": {
  "orig_nbformat": 4,
  "language_info": {
   "name": "python",
   "version": "3.8.8"
  },
  "kernelspec": {
   "name": "python3",
   "display_name": "Python 3.8.8 64-bit ('base': conda)"
  },
  "interpreter": {
   "hash": "cdc1bd03f89181de8c68a6c3149f34a4fc8da3607cbc1d336dee1514f2a11f34"
  }
 },
 "nbformat": 4,
 "nbformat_minor": 2
}