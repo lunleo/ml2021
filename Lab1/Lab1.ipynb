{
 "cells": [
  {
   "cell_type": "markdown",
   "source": [
    "Лабораторна робота 1\r\n",
    "Студента групи МІТ-31\r\n",
    "Луніна Леоніда Олександровича"
   ],
   "metadata": {}
  },
  {
   "cell_type": "code",
   "execution_count": null,
   "source": [
    "##Завдання\r\n",
    "<ol>\r\n",
    "    <li></li>\r\n",
    "</ol>"
   ],
   "outputs": [],
   "metadata": {}
  }
 ],
 "metadata": {
  "orig_nbformat": 4,
  "language_info": {
   "name": "python"
  }
 },
 "nbformat": 4,
 "nbformat_minor": 2
}